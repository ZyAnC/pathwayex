{
 "cells": [
  {
   "cell_type": "markdown",
   "id": "36f84557",
   "metadata": {},
   "source": [
    "Assignment 1\n",
    "2023/2/9\n",
    "Zheng Yan"
   ]
  },
  {
   "cell_type": "markdown",
   "id": "de647d91",
   "metadata": {},
   "source": [
    "**this is bold text Zheng yan**"
   ]
  },
  {
   "cell_type": "markdown",
   "id": "1a45b81c",
   "metadata": {},
   "source": [
    "**this is bold text Zheng yan**"
   ]
  },
  {
   "cell_type": "markdown",
   "id": "dc197192",
   "metadata": {},
   "source": [
    "# Zheng yan"
   ]
  },
  {
   "cell_type": "markdown",
   "id": "502a5e9c",
   "metadata": {},
   "source": [
    "## Zheng yan"
   ]
  },
  {
   "cell_type": "markdown",
   "id": "124845d3",
   "metadata": {},
   "source": [
    "### Zheng yan"
   ]
  },
  {
   "cell_type": "markdown",
   "id": "16568617",
   "metadata": {},
   "source": [
    "* c"
   ]
  },
  {
   "cell_type": "markdown",
   "id": "9b53dda7",
   "metadata": {},
   "source": [
    "* c++"
   ]
  },
  {
   "cell_type": "markdown",
   "id": "4df71eb9",
   "metadata": {},
   "source": [
    "* java"
   ]
  },
  {
   "cell_type": "markdown",
   "id": "648a08ff",
   "metadata": {},
   "source": [
    "intermediate devices | end devices | media \n",
    ":-: | :-: | :-:\n",
    "Router | keyboard | fiber broadband"
   ]
  },
  {
   "cell_type": "code",
   "execution_count": 11,
   "id": "9dd8e146",
   "metadata": {},
   "outputs": [
    {
     "name": "stdout",
     "output_type": "stream",
     "text": [
      "Yan\n"
     ]
    }
   ],
   "source": [
    "print('Yan')"
   ]
  },
  {
   "cell_type": "code",
   "execution_count": null,
   "id": "5ea71a1d",
   "metadata": {},
   "outputs": [],
   "source": [
    "username = input('please enter your name   ')\n",
    "print('Hello,'+username[1:4]+' !')\n"
   ]
  },
  {
   "cell_type": "code",
   "execution_count": null,
   "id": "0ce43558",
   "metadata": {},
   "outputs": [],
   "source": [
    "number1 = int(input('please enter one number  '))\n",
    "number2 = int(input('please enter one number  '))\n",
    "print(\"n1 + n2 = \" , number1 +  number2)\n",
    "print(type(number1))"
   ]
  },
  {
   "cell_type": "code",
   "execution_count": null,
   "id": "3c2346d5",
   "metadata": {},
   "outputs": [],
   "source": [
    "cakeAmount = input()\n",
    "print (\"We have\", cakeAmount, \" cakes\")"
   ]
  },
  {
   "cell_type": "code",
   "execution_count": null,
   "id": "c42c5110",
   "metadata": {},
   "outputs": [],
   "source": [
    "num = 0\n",
    "for i in range(2, 11, 3):\n",
    "    num += i\n",
    "    print(num)"
   ]
  },
  {
   "cell_type": "code",
   "execution_count": null,
   "id": "26b1c314",
   "metadata": {},
   "outputs": [],
   "source": []
  },
  {
   "cell_type": "code",
   "execution_count": null,
   "id": "d044bece",
   "metadata": {},
   "outputs": [],
   "source": []
  },
  {
   "cell_type": "code",
   "execution_count": null,
   "id": "56ab310b",
   "metadata": {},
   "outputs": [],
   "source": []
  },
  {
   "cell_type": "code",
   "execution_count": null,
   "id": "86204dca",
   "metadata": {},
   "outputs": [],
   "source": []
  }
 ],
 "metadata": {
  "kernelspec": {
   "display_name": "Python 3 (ipykernel)",
   "language": "python",
   "name": "python3"
  },
  "language_info": {
   "codemirror_mode": {
    "name": "ipython",
    "version": 3
   },
   "file_extension": ".py",
   "mimetype": "text/x-python",
   "name": "python",
   "nbconvert_exporter": "python",
   "pygments_lexer": "ipython3",
   "version": "3.11.1"
  }
 },
 "nbformat": 4,
 "nbformat_minor": 5
}
