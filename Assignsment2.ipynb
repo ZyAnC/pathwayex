{
 "cells": [
  {
   "cell_type": "markdown",
   "id": "1db5bfba",
   "metadata": {},
   "source": [
    "\n",
    "# Zheng Yan\n",
    "# 2023/2/17\n",
    "   \n",
    "      \n",
    "      "
   ]
  },
  {
   "cell_type": "code",
   "execution_count": 22,
   "id": "730eb6bf",
   "metadata": {},
   "outputs": [
    {
     "name": "stdout",
     "output_type": "stream",
     "text": [
      "The result of the calculation was:\n",
      "       149769       \n"
     ]
    }
   ],
   "source": [
    "a1=100\n",
    "a2=29\n",
    "Asum = (a1+a2) * 3\n",
    "result1 = str(Asum * Asum)\n",
    "print(\"The result of the calculation was:\")\n",
    "print(result1.center(20))"
   ]
  },
  {
   "cell_type": "code",
   "execution_count": 1,
   "id": "67796e4b",
   "metadata": {},
   "outputs": [
    {
     "name": "stdout",
     "output_type": "stream",
     "text": [
      "name:john\n",
      "year of birt:1995\n",
      "age:26\n",
      "95joh676\n"
     ]
    }
   ],
   "source": [
    "username = str(input(\"name:\"))  \n",
    "userbir = str(input(\"year of birt:\"))\n",
    "userage =int(input(\"age:\"))\n",
    "userpwd =  userbir[-2:] + username[0:3] + str(userage * userage)\n",
    "print(userpwd)"
   ]
  },
  {
   "cell_type": "code",
   "execution_count": 19,
   "id": "60d3b8f7",
   "metadata": {},
   "outputs": [
    {
     "name": "stdout",
     "output_type": "stream",
     "text": [
      "First number:7\n",
      "second number:8\n",
      "One of the numbers is even\n"
     ]
    }
   ],
   "source": [
    "number1 = int(input(\"First number:\"))\n",
    "number2 = int(input(\"second number:\"))\n",
    "if number1 % 2 == 0 and number2 % 2 ==0:\n",
    "    print(\"Both numbers are even\")\n",
    "\n",
    "elif number1 % 2 == 0 or number2 % 2 ==0:\n",
    "    print(\"One of the numbers is even\")\n",
    "else:\n",
    "     print(\"Both numbers are odd\")\n"
   ]
  },
  {
   "cell_type": "code",
   "execution_count": 20,
   "id": "84562a9a",
   "metadata": {},
   "outputs": [
    {
     "name": "stdout",
     "output_type": "stream",
     "text": [
      "Give an integer:5\n",
      "The sum was: 10\n"
     ]
    }
   ],
   "source": [
    "i = 0\n",
    "j = 0\n",
    "isum = int(input(\"Give an integer:\"))\n",
    "for i in range(i,isum) :\n",
    "    j += i   \n",
    "print(\"The sum was:\",j)"
   ]
  },
  {
   "cell_type": "code",
   "execution_count": 2,
   "id": "fa1cb841",
   "metadata": {},
   "outputs": [
    {
     "name": "stdout",
     "output_type": "stream",
     "text": [
      "Player1:8\n",
      "Try a smaller number.\n",
      "Player1:7\n",
      "Try a smaller number.\n",
      "Player1:5\n",
      "That's right!Number of tries: 3\n",
      "Player2:6\n",
      "Try a great number.\n",
      "Player2:9\n",
      "Try a smaller number.\n",
      "Player2:8\n",
      "That's right!Number of tries: 3\n",
      "Draw!\n"
     ]
    }
   ],
   "source": [
    "import random\n",
    "GuessNo = random.randint(0, 10)\n",
    "playerNo = int(input(\"Player1:\"))\n",
    "tries = 1\n",
    "while playerNo!=GuessNo:\n",
    "    if playerNo < GuessNo:\n",
    "        print(\"Try a great number.\")\n",
    "        tries +=1\n",
    "        playerNo = int(input(\"Player1:\"))\n",
    "      \n",
    "    elif playerNo > GuessNo:\n",
    "        print(\"Try a smaller number.\")\n",
    "        playerNo = int(input(\"Player1:\"))\n",
    "        tries +=1\n",
    "      \n",
    "else: \n",
    "    print(\"That's right!Number of tries:\",tries)\n",
    "    \n",
    "GuessNo2 = random.randint(0, 10)\n",
    "playerNo2 = int(input(\"Player2:\"))\n",
    "tries2 = 1\n",
    "while playerNo2!=GuessNo2:\n",
    "    if playerNo2 < GuessNo2:\n",
    "        print(\"Try a great number.\")\n",
    "        tries2 +=1\n",
    "        playerNo2 = int(input(\"Player2:\"))\n",
    "     \n",
    "    elif playerNo2 > GuessNo2:\n",
    "        print(\"Try a smaller number.\")\n",
    "        playerNo2 = int(input(\"Player2:\"))\n",
    "        tries2 +=1\n",
    "      \n",
    "else: \n",
    "    print(\"That's right!Number of tries:\",tries2)\n",
    "\n",
    "if tries > tries2:\n",
    "    print(\"winner is player2!\")\n",
    "elif tries < tries2:\n",
    "    print(\"winner is player1!\")\n",
    "else:\n",
    "    print(\"Draw!\")"
   ]
  },
  {
   "cell_type": "code",
   "execution_count": null,
   "id": "136089b3",
   "metadata": {},
   "outputs": [],
   "source": []
  },
  {
   "cell_type": "code",
   "execution_count": null,
   "id": "ce91750b",
   "metadata": {},
   "outputs": [],
   "source": []
  },
  {
   "cell_type": "code",
   "execution_count": null,
   "id": "f8a9662e",
   "metadata": {},
   "outputs": [],
   "source": []
  },
  {
   "cell_type": "code",
   "execution_count": null,
   "id": "08ee5ca4",
   "metadata": {},
   "outputs": [],
   "source": []
  }
 ],
 "metadata": {
  "kernelspec": {
   "display_name": "Python 3 (ipykernel)",
   "language": "python",
   "name": "python3"
  },
  "language_info": {
   "codemirror_mode": {
    "name": "ipython",
    "version": 3
   },
   "file_extension": ".py",
   "mimetype": "text/x-python",
   "name": "python",
   "nbconvert_exporter": "python",
   "pygments_lexer": "ipython3",
   "version": "3.11.1"
  }
 },
 "nbformat": 4,
 "nbformat_minor": 5
}
