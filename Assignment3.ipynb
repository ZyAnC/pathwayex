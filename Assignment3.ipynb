{
 "cells": [
  {
   "cell_type": "markdown",
   "id": "dd94f5e3",
   "metadata": {},
   "source": [
    "# Exercise3\n",
    "# 2023/2/22\n",
    "# Zheng Yan"
   ]
  },
  {
   "cell_type": "markdown",
   "id": "3238921a",
   "metadata": {},
   "source": [
    "## 1.Write a lambda expression to get the productof two numbers"
   ]
  },
  {
   "cell_type": "code",
   "execution_count": 2,
   "id": "11c33f03",
   "metadata": {},
   "outputs": [
    {
     "name": "stdout",
     "output_type": "stream",
     "text": [
      "30\n"
     ]
    }
   ],
   "source": [
    "product1 = lambda num,num1:num * num1\n",
    "print(product1(5,6))"
   ]
  },
  {
   "cell_type": "markdown",
   "id": "06deca1d",
   "metadata": {},
   "source": [
    "## 2.Write a function to get the area of a circle from the radius. Hint: remember to import the right modul for being able to calculte the area of the circle"
   ]
  },
  {
   "cell_type": "code",
   "execution_count": 9,
   "id": "6034c514",
   "metadata": {},
   "outputs": [
    {
     "name": "stdout",
     "output_type": "stream",
     "text": [
      "314.1592653589793\n"
     ]
    }
   ],
   "source": [
    "import math\n",
    "def CirArea(radius):\n",
    "     return radius **2 * math.pi\n",
    "print(CirArea(10))"
   ]
  },
  {
   "cell_type": "markdown",
   "id": "1d8b83f9",
   "metadata": {},
   "source": [
    "## 3.Build a simple calculator which can:add, subtract, multiply, divide"
   ]
  },
  {
   "cell_type": "code",
   "execution_count": 22,
   "id": "43f0914a",
   "metadata": {},
   "outputs": [
    {
     "name": "stdout",
     "output_type": "stream",
     "text": [
      "0.875\n",
      "<__main__.simpleccl object at 0x0000014FA688DBD0>\n"
     ]
    }
   ],
   "source": [
    "class simpleccl:\n",
    "    def  __init__(self,numb1,numb2,Cmethod):\n",
    "        if Cmethod == 'a':\n",
    "                print(numb1 + numb2)\n",
    "        elif Cmethod == 's':\n",
    "                print(numb1 - numb2)\n",
    "        elif Cmethod == 'm':\n",
    "                print(numb1 * numb2)\n",
    "        elif Cmethod == 'd':\n",
    "                print(numb1 / numb2)\n",
    "Results = simpleccl(7,8,'d')\n",
    "print(Results)\n",
    "\n",
    "#simpleccl = simple calculator    Cmethod = calculation method"
   ]
  },
  {
   "cell_type": "markdown",
   "id": "0be2fcf2",
   "metadata": {},
   "source": [
    "## 4.Define a class named Rectangle which can be constructed by a length and width.The Rectangle class has a method which can compute the area"
   ]
  },
  {
   "cell_type": "code",
   "execution_count": 32,
   "id": "1a8b0ee6",
   "metadata": {},
   "outputs": [
    {
     "name": "stdout",
     "output_type": "stream",
     "text": [
      "50\n"
     ]
    }
   ],
   "source": [
    "class Rectangle:\n",
    "      def __init__(self,length,width):\n",
    "        self.area = print(length * width)\n",
    "        \n",
    "r = Rectangle(5,10)\n",
    "r.area"
   ]
  },
  {
   "cell_type": "markdown",
   "id": "6b950c58",
   "metadata": {},
   "source": [
    "## 5.Define a class named Shape and its subclass Square.Shapeobjects can be consrtucted by name and length has an area function wich return 0 Square subclass has an init function which take a length and name as argumentand has an area method and a describe method what prints the name of the Shape.Print the area from Square class."
   ]
  },
  {
   "cell_type": "code",
   "execution_count": 102,
   "id": "23fbd790",
   "metadata": {},
   "outputs": [
    {
     "name": "stdout",
     "output_type": "stream",
     "text": [
      "The area is : 25\n",
      "This is a : square\n"
     ]
    }
   ],
   "source": [
    "class Shape(object):\n",
    "    def __init__(self,name,length):\n",
    "            self.name = name\n",
    "            self.length = length\n",
    "    def area(self):\n",
    "            return 0\n",
    "class Square(Shape):\n",
    "    def __init__(self,name,length):\n",
    "        Shape.__init__(self,name,length)\n",
    "        #super().__init__(a)# By using the super() function, \n",
    "        #you do not have to use the name of the parent element, \n",
    "        #it will automatically inherit the methods and properties from its parent.\n",
    "    def describe(self):\n",
    "        print('This is a :',self.name)\n",
    "    def area(self):\n",
    "        print('The area is :',self.length**2)\n",
    "\n",
    "s=Square('square',5)\n",
    "s.area()\n",
    "s.describe()\n",
    "\n"
   ]
  },
  {
   "cell_type": "code",
   "execution_count": null,
   "id": "d0fceb28",
   "metadata": {},
   "outputs": [],
   "source": []
  },
  {
   "cell_type": "code",
   "execution_count": null,
   "id": "13f468fc",
   "metadata": {},
   "outputs": [],
   "source": []
  },
  {
   "cell_type": "code",
   "execution_count": null,
   "id": "119026f9",
   "metadata": {},
   "outputs": [],
   "source": []
  },
  {
   "cell_type": "code",
   "execution_count": null,
   "id": "c067b84c",
   "metadata": {},
   "outputs": [],
   "source": []
  },
  {
   "cell_type": "code",
   "execution_count": null,
   "id": "29fbe345",
   "metadata": {},
   "outputs": [],
   "source": []
  }
 ],
 "metadata": {
  "kernelspec": {
   "display_name": "Python 3 (ipykernel)",
   "language": "python",
   "name": "python3"
  },
  "language_info": {
   "codemirror_mode": {
    "name": "ipython",
    "version": 3
   },
   "file_extension": ".py",
   "mimetype": "text/x-python",
   "name": "python",
   "nbconvert_exporter": "python",
   "pygments_lexer": "ipython3",
   "version": "3.11.1"
  }
 },
 "nbformat": 4,
 "nbformat_minor": 5
}
